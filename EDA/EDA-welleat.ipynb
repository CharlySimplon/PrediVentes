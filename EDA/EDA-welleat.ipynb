{
 "cells": [
  {
   "cell_type": "markdown",
   "metadata": {},
   "source": [
    "# Présentation des données du Magasin Leclerc ATLANTIS"
   ]
  },
  {
   "cell_type": "markdown",
   "metadata": {},
   "source": [
    "![Leclerc](img/atlantis2.png)"
   ]
  },
  {
   "cell_type": "code",
   "execution_count": 1,
   "metadata": {},
   "outputs": [],
   "source": [
    "#Importation librairies\n",
    "import pandas as pd\n",
    "import numpy as np"
   ]
  },
  {
   "cell_type": "code",
   "execution_count": 2,
   "metadata": {},
   "outputs": [],
   "source": [
    "# Régler l'affichage\n",
    "pd.set_option('display.max_columns', None)"
   ]
  },
  {
   "cell_type": "code",
   "execution_count": 3,
   "metadata": {},
   "outputs": [
    {
     "data": {
      "text/html": [
       "<div>\n",
       "<style scoped>\n",
       "    .dataframe tbody tr th:only-of-type {\n",
       "        vertical-align: middle;\n",
       "    }\n",
       "\n",
       "    .dataframe tbody tr th {\n",
       "        vertical-align: top;\n",
       "    }\n",
       "\n",
       "    .dataframe thead th {\n",
       "        text-align: right;\n",
       "    }\n",
       "</style>\n",
       "<table border=\"1\" class=\"dataframe\">\n",
       "  <thead>\n",
       "    <tr style=\"text-align: right;\">\n",
       "      <th></th>\n",
       "      <th>Date et heure díachat† / Purchase Date Time</th>\n",
       "      <th>numÈro de ticket / Basket id†</th>\n",
       "      <th>Caisse / Cashier</th>\n",
       "      <th>Rayon /Department</th>\n",
       "      <th>N∞ Rayon /Department id</th>\n",
       "      <th>Famille / Category</th>\n",
       "      <th>N∞† Famille / Category id</th>\n",
       "      <th>Sous-famille / Sub Category</th>\n",
       "      <th>N∞ Sous-famille / Sub Category id</th>\n",
       "      <th>Nom du produit / Product name</th>\n",
       "      <th>Product SKU / Code article</th>\n",
       "      <th>UPC / EAN</th>\n",
       "      <th>CODELEC</th>\n",
       "      <th>Supplier / Fournisseur†</th>\n",
       "      <th>N∞ Fournisseur† / Supplier id</th>\n",
       "      <th>RAISON SOCIALE</th>\n",
       "      <th>MARQUE COMMERCIALE</th>\n",
       "      <th>QuantitÈ / Quantity</th>\n",
       "      <th>Valeur / Value</th>\n",
       "      <th>RÈduction / Discount</th>\n",
       "      <th>Valeur totale / Total value</th>\n",
       "    </tr>\n",
       "  </thead>\n",
       "  <tbody>\n",
       "    <tr>\n",
       "      <th>0</th>\n",
       "      <td>21 avril 2022 12:14</td>\n",
       "      <td>0 01VT 00200</td>\n",
       "      <td>1</td>\n",
       "      <td>JARDINAGE</td>\n",
       "      <td>143.0</td>\n",
       "      <td>JARDINAGE HYPER</td>\n",
       "      <td>31.0</td>\n",
       "      <td>Elements d environnement</td>\n",
       "      <td>15385.0</td>\n",
       "      <td>TREILLAGE EVENTAIL.1P</td>\n",
       "      <td>2414191.0</td>\n",
       "      <td>4752072514775</td>\n",
       "      <td>588182510.0</td>\n",
       "      <td>EKJU LTD</td>\n",
       "      <td>3.400000e+10</td>\n",
       "      <td>EKJU LTD</td>\n",
       "      <td>EKJU</td>\n",
       "      <td>2</td>\n",
       "      <td>4.90</td>\n",
       "      <td>NaN</td>\n",
       "      <td>9.80</td>\n",
       "    </tr>\n",
       "    <tr>\n",
       "      <th>1</th>\n",
       "      <td>21 avril 2022 12:14</td>\n",
       "      <td>0 01VT 00200</td>\n",
       "      <td>1</td>\n",
       "      <td>JARDINAGE</td>\n",
       "      <td>143.0</td>\n",
       "      <td>JARDINAGE HYPER</td>\n",
       "      <td>31.0</td>\n",
       "      <td>Contenants s/rÈserve eau</td>\n",
       "      <td>15374.0</td>\n",
       "      <td>POT CAMPANA D37CM ANTHRACITE</td>\n",
       "      <td>13447578.0</td>\n",
       "      <td>8019748400074</td>\n",
       "      <td>587024090.0</td>\n",
       "      <td>SAMSON B.V.*</td>\n",
       "      <td>6.844900e+04</td>\n",
       "      <td>SAMSON B.V.</td>\n",
       "      <td>POT CAMPANA D37CM ANTHRACITE</td>\n",
       "      <td>1</td>\n",
       "      <td>12.90</td>\n",
       "      <td>NaN</td>\n",
       "      <td>12.90</td>\n",
       "    </tr>\n",
       "    <tr>\n",
       "      <th>2</th>\n",
       "      <td>21 avril 2022 09:54</td>\n",
       "      <td>0 02RR 00400</td>\n",
       "      <td>2</td>\n",
       "      <td>FRUITS ET LEGUMES BALANCE</td>\n",
       "      <td>27.0</td>\n",
       "      <td>DECOUPE FRAICHE FLEG</td>\n",
       "      <td>775.0</td>\n",
       "      <td>FRUITS LS FRAICHE DECOUPE</td>\n",
       "      <td>12778.0</td>\n",
       "      <td>ANANAS CUBE</td>\n",
       "      <td>1344720.0</td>\n",
       "      <td>207003000000</td>\n",
       "      <td>444101045.0</td>\n",
       "      <td>FRAICHE DECOUPE (LEGUMES)</td>\n",
       "      <td>8.891000e+09</td>\n",
       "      <td>E. Leclerc</td>\n",
       "      <td>E. Leclerc</td>\n",
       "      <td>1</td>\n",
       "      <td>1.36</td>\n",
       "      <td>NaN</td>\n",
       "      <td>1.36</td>\n",
       "    </tr>\n",
       "    <tr>\n",
       "      <th>3</th>\n",
       "      <td>21 avril 2022 09:54</td>\n",
       "      <td>0 02RR 00400</td>\n",
       "      <td>2</td>\n",
       "      <td>FRUITS ET LEGUMES BALANCE</td>\n",
       "      <td>27.0</td>\n",
       "      <td>DECOUPE FRAICHE FLEG</td>\n",
       "      <td>775.0</td>\n",
       "      <td>FRUITS LS FRAICHE DECOUPE</td>\n",
       "      <td>12778.0</td>\n",
       "      <td>ANANAS CUBE</td>\n",
       "      <td>1344720.0</td>\n",
       "      <td>207003000000</td>\n",
       "      <td>444101045.0</td>\n",
       "      <td>FRAICHE DECOUPE (LEGUMES)</td>\n",
       "      <td>8.891000e+09</td>\n",
       "      <td>E. Leclerc</td>\n",
       "      <td>E. Leclerc</td>\n",
       "      <td>1</td>\n",
       "      <td>1.36</td>\n",
       "      <td>NaN</td>\n",
       "      <td>1.36</td>\n",
       "    </tr>\n",
       "    <tr>\n",
       "      <th>4</th>\n",
       "      <td>21 avril 2022 09:54</td>\n",
       "      <td>0 02RR 00400</td>\n",
       "      <td>2</td>\n",
       "      <td>TRAITEUR TRAD. LS</td>\n",
       "      <td>21.0</td>\n",
       "      <td>TRAITEUR TRAD. L.S.</td>\n",
       "      <td>78.0</td>\n",
       "      <td>ENTREES EXOTIQUES</td>\n",
       "      <td>12077.0</td>\n",
       "      <td>POKE BOWL LOMI</td>\n",
       "      <td>12308664.0</td>\n",
       "      <td>3701292624338</td>\n",
       "      <td>466103590.0</td>\n",
       "      <td>SUSHI GOURMET</td>\n",
       "      <td>7.658700e+04</td>\n",
       "      <td>SUSHI GOURMET</td>\n",
       "      <td>POKE BOWL LOMI</td>\n",
       "      <td>1</td>\n",
       "      <td>9.90</td>\n",
       "      <td>NaN</td>\n",
       "      <td>9.90</td>\n",
       "    </tr>\n",
       "    <tr>\n",
       "      <th>...</th>\n",
       "      <td>...</td>\n",
       "      <td>...</td>\n",
       "      <td>...</td>\n",
       "      <td>...</td>\n",
       "      <td>...</td>\n",
       "      <td>...</td>\n",
       "      <td>...</td>\n",
       "      <td>...</td>\n",
       "      <td>...</td>\n",
       "      <td>...</td>\n",
       "      <td>...</td>\n",
       "      <td>...</td>\n",
       "      <td>...</td>\n",
       "      <td>...</td>\n",
       "      <td>...</td>\n",
       "      <td>...</td>\n",
       "      <td>...</td>\n",
       "      <td>...</td>\n",
       "      <td>...</td>\n",
       "      <td>...</td>\n",
       "      <td>...</td>\n",
       "    </tr>\n",
       "    <tr>\n",
       "      <th>95920</th>\n",
       "      <td>21 avril 2022 18:04</td>\n",
       "      <td>2 HF9N 00I00</td>\n",
       "      <td>610</td>\n",
       "      <td>LIQUIDES</td>\n",
       "      <td>102.0</td>\n",
       "      <td>SODA/LIMONADE/JUS FRUITS</td>\n",
       "      <td>61.0</td>\n",
       "      <td>Jus ‡ base concentre</td>\n",
       "      <td>10914.0</td>\n",
       "      <td>JUS ORANGE ABC,1L</td>\n",
       "      <td>1032481.0</td>\n",
       "      <td>3450970004770</td>\n",
       "      <td>311102010.0</td>\n",
       "      <td>E. Leclerc</td>\n",
       "      <td>3.400006e+10</td>\n",
       "      <td>E. Leclerc</td>\n",
       "      <td>ECO+</td>\n",
       "      <td>1</td>\n",
       "      <td>0.71</td>\n",
       "      <td>NaN</td>\n",
       "      <td>0.71</td>\n",
       "    </tr>\n",
       "    <tr>\n",
       "      <th>95921</th>\n",
       "      <td>21 avril 2022 18:04</td>\n",
       "      <td>2 HF9N 00I00</td>\n",
       "      <td>610</td>\n",
       "      <td>LIQUIDES</td>\n",
       "      <td>102.0</td>\n",
       "      <td>SODA/LIMONADE/JUS FRUITS</td>\n",
       "      <td>61.0</td>\n",
       "      <td>Boissons aux fruits plates</td>\n",
       "      <td>10935.0</td>\n",
       "      <td>OASIS TROPICAL,2L</td>\n",
       "      <td>9827031.0</td>\n",
       "      <td>3124480191182</td>\n",
       "      <td>306102011.0</td>\n",
       "      <td>ORANGINA SCHWEPPES FRANCE</td>\n",
       "      <td>3.400004e+10</td>\n",
       "      <td>ORANGINA SCHWEPPES</td>\n",
       "      <td>OASIS</td>\n",
       "      <td>1</td>\n",
       "      <td>1.83</td>\n",
       "      <td>NaN</td>\n",
       "      <td>1.83</td>\n",
       "    </tr>\n",
       "    <tr>\n",
       "      <th>95922</th>\n",
       "      <td>21 avril 2022 18:04</td>\n",
       "      <td>2 HF9N 00I00</td>\n",
       "      <td>610</td>\n",
       "      <td>LIQUIDES</td>\n",
       "      <td>102.0</td>\n",
       "      <td>SODA/LIMONADE/JUS FRUITS</td>\n",
       "      <td>61.0</td>\n",
       "      <td>Nectars</td>\n",
       "      <td>10915.0</td>\n",
       "      <td>LIMONADE,1.5L</td>\n",
       "      <td>3160066.0</td>\n",
       "      <td>3564700813751</td>\n",
       "      <td>307101011.0</td>\n",
       "      <td>E. Leclerc</td>\n",
       "      <td>3.400006e+10</td>\n",
       "      <td>E. Leclerc</td>\n",
       "      <td>SPRINK'S</td>\n",
       "      <td>1</td>\n",
       "      <td>0.65</td>\n",
       "      <td>NaN</td>\n",
       "      <td>0.65</td>\n",
       "    </tr>\n",
       "    <tr>\n",
       "      <th>95923</th>\n",
       "      <td>21 avril 2022 18:04</td>\n",
       "      <td>2 HF9N 00I00</td>\n",
       "      <td>610</td>\n",
       "      <td>CREMERIE</td>\n",
       "      <td>114.0</td>\n",
       "      <td>CREMERIE ULTRA FRAIS</td>\n",
       "      <td>57.0</td>\n",
       "      <td>AUTRE FRUIT</td>\n",
       "      <td>12319.0</td>\n",
       "      <td>DESSERT FRUITS PANACHES 16X100</td>\n",
       "      <td>2453579.0</td>\n",
       "      <td>3608580003625</td>\n",
       "      <td>421109020.0</td>\n",
       "      <td>ANDROS COMPOTES FRANCE SNC</td>\n",
       "      <td>3.400000e+10</td>\n",
       "      <td>ANDROS</td>\n",
       "      <td>ANDROS</td>\n",
       "      <td>1</td>\n",
       "      <td>3.90</td>\n",
       "      <td>NaN</td>\n",
       "      <td>3.90</td>\n",
       "    </tr>\n",
       "    <tr>\n",
       "      <th>95924</th>\n",
       "      <td>21 avril 2022 18:04</td>\n",
       "      <td>2 HF9N 00I00</td>\n",
       "      <td>610</td>\n",
       "      <td>EPICERIE</td>\n",
       "      <td>101.0</td>\n",
       "      <td>CONSERVES DE LEGUMES</td>\n",
       "      <td>93.0</td>\n",
       "      <td>MacÈdoines de lÈgumes</td>\n",
       "      <td>10540.0</td>\n",
       "      <td>MACEDOINE LEGUMES,NJARDIN,530G</td>\n",
       "      <td>443549.0</td>\n",
       "      <td>3564700004838</td>\n",
       "      <td>215406010.0</td>\n",
       "      <td>E. Leclerc</td>\n",
       "      <td>3.400006e+10</td>\n",
       "      <td>E. Leclerc</td>\n",
       "      <td>NOTRE JARDIN</td>\n",
       "      <td>1</td>\n",
       "      <td>1.02</td>\n",
       "      <td>NaN</td>\n",
       "      <td>1.02</td>\n",
       "    </tr>\n",
       "  </tbody>\n",
       "</table>\n",
       "<p>95925 rows × 21 columns</p>\n",
       "</div>"
      ],
      "text/plain": [
       "      Date et heure díachat† / Purchase Date Time  \\\n",
       "0                             21 avril 2022 12:14   \n",
       "1                             21 avril 2022 12:14   \n",
       "2                             21 avril 2022 09:54   \n",
       "3                             21 avril 2022 09:54   \n",
       "4                             21 avril 2022 09:54   \n",
       "...                                           ...   \n",
       "95920                         21 avril 2022 18:04   \n",
       "95921                         21 avril 2022 18:04   \n",
       "95922                         21 avril 2022 18:04   \n",
       "95923                         21 avril 2022 18:04   \n",
       "95924                         21 avril 2022 18:04   \n",
       "\n",
       "      numÈro de ticket / Basket id†  Caisse / Cashier  \\\n",
       "0                      0 01VT 00200                 1   \n",
       "1                      0 01VT 00200                 1   \n",
       "2                      0 02RR 00400                 2   \n",
       "3                      0 02RR 00400                 2   \n",
       "4                      0 02RR 00400                 2   \n",
       "...                             ...               ...   \n",
       "95920                  2 HF9N 00I00               610   \n",
       "95921                  2 HF9N 00I00               610   \n",
       "95922                  2 HF9N 00I00               610   \n",
       "95923                  2 HF9N 00I00               610   \n",
       "95924                  2 HF9N 00I00               610   \n",
       "\n",
       "               Rayon /Department  N∞ Rayon /Department id  \\\n",
       "0                      JARDINAGE                    143.0   \n",
       "1                      JARDINAGE                    143.0   \n",
       "2      FRUITS ET LEGUMES BALANCE                     27.0   \n",
       "3      FRUITS ET LEGUMES BALANCE                     27.0   \n",
       "4              TRAITEUR TRAD. LS                     21.0   \n",
       "...                          ...                      ...   \n",
       "95920                   LIQUIDES                    102.0   \n",
       "95921                   LIQUIDES                    102.0   \n",
       "95922                   LIQUIDES                    102.0   \n",
       "95923                   CREMERIE                    114.0   \n",
       "95924                   EPICERIE                    101.0   \n",
       "\n",
       "             Famille / Category  N∞† Famille / Category id  \\\n",
       "0               JARDINAGE HYPER                       31.0   \n",
       "1               JARDINAGE HYPER                       31.0   \n",
       "2          DECOUPE FRAICHE FLEG                      775.0   \n",
       "3          DECOUPE FRAICHE FLEG                      775.0   \n",
       "4           TRAITEUR TRAD. L.S.                       78.0   \n",
       "...                         ...                        ...   \n",
       "95920  SODA/LIMONADE/JUS FRUITS                       61.0   \n",
       "95921  SODA/LIMONADE/JUS FRUITS                       61.0   \n",
       "95922  SODA/LIMONADE/JUS FRUITS                       61.0   \n",
       "95923      CREMERIE ULTRA FRAIS                       57.0   \n",
       "95924      CONSERVES DE LEGUMES                       93.0   \n",
       "\n",
       "      Sous-famille / Sub Category  N∞ Sous-famille / Sub Category id  \\\n",
       "0        Elements d environnement                            15385.0   \n",
       "1        Contenants s/rÈserve eau                            15374.0   \n",
       "2       FRUITS LS FRAICHE DECOUPE                            12778.0   \n",
       "3       FRUITS LS FRAICHE DECOUPE                            12778.0   \n",
       "4               ENTREES EXOTIQUES                            12077.0   \n",
       "...                           ...                                ...   \n",
       "95920        Jus ‡ base concentre                            10914.0   \n",
       "95921  Boissons aux fruits plates                            10935.0   \n",
       "95922                     Nectars                            10915.0   \n",
       "95923                 AUTRE FRUIT                            12319.0   \n",
       "95924       MacÈdoines de lÈgumes                            10540.0   \n",
       "\n",
       "        Nom du produit / Product name  Product SKU / Code article  \\\n",
       "0               TREILLAGE EVENTAIL.1P                   2414191.0   \n",
       "1        POT CAMPANA D37CM ANTHRACITE                  13447578.0   \n",
       "2                         ANANAS CUBE                   1344720.0   \n",
       "3                         ANANAS CUBE                   1344720.0   \n",
       "4                      POKE BOWL LOMI                  12308664.0   \n",
       "...                               ...                         ...   \n",
       "95920               JUS ORANGE ABC,1L                   1032481.0   \n",
       "95921               OASIS TROPICAL,2L                   9827031.0   \n",
       "95922                   LIMONADE,1.5L                   3160066.0   \n",
       "95923  DESSERT FRUITS PANACHES 16X100                   2453579.0   \n",
       "95924  MACEDOINE LEGUMES,NJARDIN,530G                    443549.0   \n",
       "\n",
       "           UPC / EAN      CODELEC     Supplier / Fournisseur†  \\\n",
       "0      4752072514775  588182510.0                    EKJU LTD   \n",
       "1      8019748400074  587024090.0                SAMSON B.V.*   \n",
       "2       207003000000  444101045.0   FRAICHE DECOUPE (LEGUMES)   \n",
       "3       207003000000  444101045.0   FRAICHE DECOUPE (LEGUMES)   \n",
       "4      3701292624338  466103590.0               SUSHI GOURMET   \n",
       "...              ...          ...                         ...   \n",
       "95920  3450970004770  311102010.0                  E. Leclerc   \n",
       "95921  3124480191182  306102011.0   ORANGINA SCHWEPPES FRANCE   \n",
       "95922  3564700813751  307101011.0                  E. Leclerc   \n",
       "95923  3608580003625  421109020.0  ANDROS COMPOTES FRANCE SNC   \n",
       "95924  3564700004838  215406010.0                  E. Leclerc   \n",
       "\n",
       "       N∞ Fournisseur† / Supplier id      RAISON SOCIALE  \\\n",
       "0                       3.400000e+10            EKJU LTD   \n",
       "1                       6.844900e+04         SAMSON B.V.   \n",
       "2                       8.891000e+09          E. Leclerc   \n",
       "3                       8.891000e+09          E. Leclerc   \n",
       "4                       7.658700e+04       SUSHI GOURMET   \n",
       "...                              ...                 ...   \n",
       "95920                   3.400006e+10          E. Leclerc   \n",
       "95921                   3.400004e+10  ORANGINA SCHWEPPES   \n",
       "95922                   3.400006e+10          E. Leclerc   \n",
       "95923                   3.400000e+10              ANDROS   \n",
       "95924                   3.400006e+10          E. Leclerc   \n",
       "\n",
       "                 MARQUE COMMERCIALE  QuantitÈ / Quantity  Valeur / Value  \\\n",
       "0                              EKJU                    2            4.90   \n",
       "1      POT CAMPANA D37CM ANTHRACITE                    1           12.90   \n",
       "2                        E. Leclerc                    1            1.36   \n",
       "3                        E. Leclerc                    1            1.36   \n",
       "4                    POKE BOWL LOMI                    1            9.90   \n",
       "...                             ...                  ...             ...   \n",
       "95920                          ECO+                    1            0.71   \n",
       "95921                         OASIS                    1            1.83   \n",
       "95922                      SPRINK'S                    1            0.65   \n",
       "95923                        ANDROS                    1            3.90   \n",
       "95924                  NOTRE JARDIN                    1            1.02   \n",
       "\n",
       "       RÈduction / Discount  Valeur totale / Total value  \n",
       "0                       NaN                         9.80  \n",
       "1                       NaN                        12.90  \n",
       "2                       NaN                         1.36  \n",
       "3                       NaN                         1.36  \n",
       "4                       NaN                         9.90  \n",
       "...                     ...                          ...  \n",
       "95920                   NaN                         0.71  \n",
       "95921                   NaN                         1.83  \n",
       "95922                   NaN                         0.65  \n",
       "95923                   NaN                         3.90  \n",
       "95924                   NaN                         1.02  \n",
       "\n",
       "[95925 rows x 21 columns]"
      ]
     },
     "execution_count": 3,
     "metadata": {},
     "output_type": "execute_result"
    }
   ],
   "source": [
    "# Importation des données et visualisation \n",
    "df = pd.read_csv('sales_atlantis.csv', encoding='mac_roman') \n",
    "df"
   ]
  },
  {
   "cell_type": "code",
   "execution_count": 4,
   "metadata": {},
   "outputs": [
    {
     "data": {
      "text/plain": [
       "Index(['Date et heure díachat† / Purchase Date Time',\n",
       "       'numÈro de ticket / Basket id†', 'Caisse / Cashier',\n",
       "       'Rayon /Department', 'N∞ Rayon /Department id', 'Famille / Category',\n",
       "       'N∞† Famille / Category id', 'Sous-famille / Sub Category',\n",
       "       'N∞ Sous-famille / Sub Category id', 'Nom du produit / Product name',\n",
       "       'Product SKU / Code article', 'UPC / EAN', 'CODELEC',\n",
       "       'Supplier / Fournisseur†', 'N∞ Fournisseur† / Supplier id',\n",
       "       'RAISON SOCIALE', 'MARQUE COMMERCIALE', 'QuantitÈ / Quantity',\n",
       "       'Valeur / Value', 'RÈduction / Discount',\n",
       "       'Valeur totale / Total value'],\n",
       "      dtype='object')"
      ]
     },
     "execution_count": 4,
     "metadata": {},
     "output_type": "execute_result"
    }
   ],
   "source": [
    "#Nom des colonnes\n",
    "df.columns"
   ]
  },
  {
   "cell_type": "markdown",
   "metadata": {},
   "source": [
    "## Nettoyage des données"
   ]
  },
  {
   "cell_type": "code",
   "execution_count": 5,
   "metadata": {},
   "outputs": [],
   "source": [
    "df.rename(columns={'Date et heure díachat† / Purchase Date Time': 'date', 'numÈro de ticket / Basket id†': 'ticket', 'Caisse / Cashier' : 'caisse', 'Rayon /Department': 'rayon', 'N∞ Rayon /Department id' : 'rayon_id', 'Famille / Category' : 'category', 'N∞† Famille / Category id': 'category_id', 'Sous-famille / Sub Category' : 'sub_category', 'N∞ Sous-famille / Sub Category id' : 'sub_category_id', 'Nom du produit / Product name' : 'produit', 'Product SKU / Code article' : 'code_article', 'UPC / EAN' : 'EAN', 'Supplier / Fournisseur†' : 'supplier', 'N∞ Fournisseur† / Supplier id' : 'supplier_id', 'RAISON SOCIALE' : 'raison_sociale', 'MARQUE COMMERCIALE' : 'marque', 'QuantitÈ / Quantity' : 'quantity', 'Valeur / Value' : 'value', 'RÈduction / Discount': 'discount', 'Valeur totale / Total value' : 'total'}, inplace=True)"
   ]
  },
  {
   "cell_type": "code",
   "execution_count": 8,
   "metadata": {},
   "outputs": [
    {
     "data": {
      "text/html": [
       "<div>\n",
       "<style scoped>\n",
       "    .dataframe tbody tr th:only-of-type {\n",
       "        vertical-align: middle;\n",
       "    }\n",
       "\n",
       "    .dataframe tbody tr th {\n",
       "        vertical-align: top;\n",
       "    }\n",
       "\n",
       "    .dataframe thead th {\n",
       "        text-align: right;\n",
       "    }\n",
       "</style>\n",
       "<table border=\"1\" class=\"dataframe\">\n",
       "  <thead>\n",
       "    <tr style=\"text-align: right;\">\n",
       "      <th></th>\n",
       "      <th>caisse</th>\n",
       "      <th>rayon_id</th>\n",
       "      <th>category_id</th>\n",
       "      <th>sub_category_id</th>\n",
       "      <th>code_article</th>\n",
       "      <th>EAN</th>\n",
       "      <th>CODELEC</th>\n",
       "      <th>supplier_id</th>\n",
       "      <th>quantity</th>\n",
       "      <th>value</th>\n",
       "      <th>discount</th>\n",
       "      <th>total</th>\n",
       "    </tr>\n",
       "  </thead>\n",
       "  <tbody>\n",
       "    <tr>\n",
       "      <th>count</th>\n",
       "      <td>95925.000000</td>\n",
       "      <td>93528.000000</td>\n",
       "      <td>93528.000000</td>\n",
       "      <td>93528.000000</td>\n",
       "      <td>9.591300e+04</td>\n",
       "      <td>9.592500e+04</td>\n",
       "      <td>9.591300e+04</td>\n",
       "      <td>9.591300e+04</td>\n",
       "      <td>95925.000000</td>\n",
       "      <td>95925.000000</td>\n",
       "      <td>0.0</td>\n",
       "      <td>95925.000000</td>\n",
       "    </tr>\n",
       "    <tr>\n",
       "      <th>mean</th>\n",
       "      <td>102.888027</td>\n",
       "      <td>96.972768</td>\n",
       "      <td>94.919265</td>\n",
       "      <td>12154.570364</td>\n",
       "      <td>4.317203e+06</td>\n",
       "      <td>3.532991e+12</td>\n",
       "      <td>3.889694e+08</td>\n",
       "      <td>5.731094e+10</td>\n",
       "      <td>1.064707</td>\n",
       "      <td>3.134399</td>\n",
       "      <td>NaN</td>\n",
       "      <td>3.266716</td>\n",
       "    </tr>\n",
       "    <tr>\n",
       "      <th>std</th>\n",
       "      <td>173.752557</td>\n",
       "      <td>1132.458278</td>\n",
       "      <td>162.424706</td>\n",
       "      <td>4714.774732</td>\n",
       "      <td>4.458531e+06</td>\n",
       "      <td>1.891609e+12</td>\n",
       "      <td>1.854517e+08</td>\n",
       "      <td>1.561534e+12</td>\n",
       "      <td>0.746755</td>\n",
       "      <td>25.620975</td>\n",
       "      <td>NaN</td>\n",
       "      <td>25.699808</td>\n",
       "    </tr>\n",
       "    <tr>\n",
       "      <th>min</th>\n",
       "      <td>1.000000</td>\n",
       "      <td>9.000000</td>\n",
       "      <td>2.000000</td>\n",
       "      <td>10003.000000</td>\n",
       "      <td>2.570000e+02</td>\n",
       "      <td>9.000000e+00</td>\n",
       "      <td>0.000000e+00</td>\n",
       "      <td>7.400000e+01</td>\n",
       "      <td>1.000000</td>\n",
       "      <td>0.010000</td>\n",
       "      <td>NaN</td>\n",
       "      <td>0.010000</td>\n",
       "    </tr>\n",
       "    <tr>\n",
       "      <th>25%</th>\n",
       "      <td>14.000000</td>\n",
       "      <td>28.000000</td>\n",
       "      <td>37.000000</td>\n",
       "      <td>10915.000000</td>\n",
       "      <td>5.014450e+05</td>\n",
       "      <td>3.124480e+12</td>\n",
       "      <td>3.011010e+08</td>\n",
       "      <td>3.400000e+10</td>\n",
       "      <td>1.000000</td>\n",
       "      <td>1.300000</td>\n",
       "      <td>NaN</td>\n",
       "      <td>1.350000</td>\n",
       "    </tr>\n",
       "    <tr>\n",
       "      <th>50%</th>\n",
       "      <td>24.000000</td>\n",
       "      <td>101.000000</td>\n",
       "      <td>61.500000</td>\n",
       "      <td>12127.000000</td>\n",
       "      <td>2.678654e+06</td>\n",
       "      <td>3.468570e+12</td>\n",
       "      <td>4.324310e+08</td>\n",
       "      <td>3.400001e+10</td>\n",
       "      <td>1.000000</td>\n",
       "      <td>1.980000</td>\n",
       "      <td>NaN</td>\n",
       "      <td>2.000000</td>\n",
       "    </tr>\n",
       "    <tr>\n",
       "      <th>75%</th>\n",
       "      <td>35.000000</td>\n",
       "      <td>114.000000</td>\n",
       "      <td>88.000000</td>\n",
       "      <td>12657.000000</td>\n",
       "      <td>5.936935e+06</td>\n",
       "      <td>3.601030e+12</td>\n",
       "      <td>4.643560e+08</td>\n",
       "      <td>3.400006e+10</td>\n",
       "      <td>1.000000</td>\n",
       "      <td>3.210000</td>\n",
       "      <td>NaN</td>\n",
       "      <td>3.340000</td>\n",
       "    </tr>\n",
       "    <tr>\n",
       "      <th>max</th>\n",
       "      <td>610.000000</td>\n",
       "      <td>99999.000000</td>\n",
       "      <td>10211.000000</td>\n",
       "      <td>102111.000000</td>\n",
       "      <td>1.380177e+07</td>\n",
       "      <td>9.782759e+12</td>\n",
       "      <td>8.991030e+08</td>\n",
       "      <td>1.000000e+14</td>\n",
       "      <td>90.000000</td>\n",
       "      <td>7797.780000</td>\n",
       "      <td>NaN</td>\n",
       "      <td>7797.780000</td>\n",
       "    </tr>\n",
       "  </tbody>\n",
       "</table>\n",
       "</div>"
      ],
      "text/plain": [
       "             caisse      rayon_id   category_id  sub_category_id  \\\n",
       "count  95925.000000  93528.000000  93528.000000     93528.000000   \n",
       "mean     102.888027     96.972768     94.919265     12154.570364   \n",
       "std      173.752557   1132.458278    162.424706      4714.774732   \n",
       "min        1.000000      9.000000      2.000000     10003.000000   \n",
       "25%       14.000000     28.000000     37.000000     10915.000000   \n",
       "50%       24.000000    101.000000     61.500000     12127.000000   \n",
       "75%       35.000000    114.000000     88.000000     12657.000000   \n",
       "max      610.000000  99999.000000  10211.000000    102111.000000   \n",
       "\n",
       "       code_article           EAN       CODELEC   supplier_id      quantity  \\\n",
       "count  9.591300e+04  9.592500e+04  9.591300e+04  9.591300e+04  95925.000000   \n",
       "mean   4.317203e+06  3.532991e+12  3.889694e+08  5.731094e+10      1.064707   \n",
       "std    4.458531e+06  1.891609e+12  1.854517e+08  1.561534e+12      0.746755   \n",
       "min    2.570000e+02  9.000000e+00  0.000000e+00  7.400000e+01      1.000000   \n",
       "25%    5.014450e+05  3.124480e+12  3.011010e+08  3.400000e+10      1.000000   \n",
       "50%    2.678654e+06  3.468570e+12  4.324310e+08  3.400001e+10      1.000000   \n",
       "75%    5.936935e+06  3.601030e+12  4.643560e+08  3.400006e+10      1.000000   \n",
       "max    1.380177e+07  9.782759e+12  8.991030e+08  1.000000e+14     90.000000   \n",
       "\n",
       "              value  discount         total  \n",
       "count  95925.000000       0.0  95925.000000  \n",
       "mean       3.134399       NaN      3.266716  \n",
       "std       25.620975       NaN     25.699808  \n",
       "min        0.010000       NaN      0.010000  \n",
       "25%        1.300000       NaN      1.350000  \n",
       "50%        1.980000       NaN      2.000000  \n",
       "75%        3.210000       NaN      3.340000  \n",
       "max     7797.780000       NaN   7797.780000  "
      ]
     },
     "execution_count": 8,
     "metadata": {},
     "output_type": "execute_result"
    }
   ],
   "source": [
    "df.describe()"
   ]
  },
  {
   "cell_type": "code",
   "execution_count": 9,
   "metadata": {},
   "outputs": [
    {
     "name": "stdout",
     "output_type": "stream",
     "text": [
      "11021\n"
     ]
    }
   ],
   "source": [
    "#Traitement des doublons\n",
    "print(df.duplicated().sum())"
   ]
  },
  {
   "cell_type": "markdown",
   "metadata": {},
   "source": [
    "Est-ce réellement des doublons ou même produits passés plusieurs fois en caisse sans changer la \"quantité\" ?"
   ]
  },
  {
   "cell_type": "code",
   "execution_count": 10,
   "metadata": {},
   "outputs": [
    {
     "name": "stdout",
     "output_type": "stream",
     "text": [
      "date                   0\n",
      "ticket                 0\n",
      "caisse                 0\n",
      "rayon               2397\n",
      "rayon_id            2397\n",
      "category            2397\n",
      "category_id         2397\n",
      "sub_category        2397\n",
      "sub_category_id     2397\n",
      "produit                0\n",
      "code_article          12\n",
      "EAN                    0\n",
      "CODELEC               12\n",
      "supplier              12\n",
      "supplier_id           12\n",
      "raison_sociale        12\n",
      "marque                 0\n",
      "quantity               0\n",
      "value                  0\n",
      "discount           95925\n",
      "total                  0\n",
      "dtype: int64\n"
     ]
    }
   ],
   "source": [
    "#Traitement des valeurs manquantes\n",
    "print(df.isnull().sum()) "
   ]
  },
  {
   "cell_type": "code",
   "execution_count": 11,
   "metadata": {},
   "outputs": [],
   "source": [
    "#Remplacer NaN par 0 pour les remises\n",
    "df['discount'] = df['discount'].fillna(0)"
   ]
  },
  {
   "cell_type": "code",
   "execution_count": 12,
   "metadata": {},
   "outputs": [],
   "source": [
    "#Remplacer NaN par -1 pour ce qui devrait être des valeurs numériques\n",
    "df['rayon_id'] = df['rayon_id'].fillna(-1)\n",
    "df['category_id'] = df['category_id'].fillna(-1)\n",
    "df['sub_category_id'] = df['sub_category_id'].fillna(-1)\n",
    "df['code_article'] = df['code_article'].fillna(-1)\n",
    "df['CODELEC'] = df['CODELEC'].fillna(-1)\n",
    "df['supplier_id'] = df['supplier_id'].fillna(-1)\n"
   ]
  },
  {
   "cell_type": "code",
   "execution_count": 13,
   "metadata": {},
   "outputs": [],
   "source": [
    "#Remplacer NaN par \"inconnu\" pour ce qui devrait être des string\n",
    "df['rayon'] = df['rayon'].fillna('inconnu')\n",
    "df['category'] = df['category'].fillna('inconnu')\n",
    "df['sub_category'] = df['sub_category'].fillna('inconnu')\n",
    "df['supplier'] = df['supplier'].fillna('inconnu')\n",
    "df['raison_sociale'] = df['raison_sociale'].fillna('inconnu')"
   ]
  },
  {
   "cell_type": "code",
   "execution_count": 14,
   "metadata": {},
   "outputs": [
    {
     "data": {
      "text/plain": [
       "date                object\n",
       "ticket              object\n",
       "caisse               int64\n",
       "rayon               object\n",
       "rayon_id           float64\n",
       "category            object\n",
       "category_id        float64\n",
       "sub_category        object\n",
       "sub_category_id    float64\n",
       "produit             object\n",
       "code_article       float64\n",
       "EAN                  int64\n",
       "CODELEC            float64\n",
       "supplier            object\n",
       "supplier_id        float64\n",
       "raison_sociale      object\n",
       "marque              object\n",
       "quantity             int64\n",
       "value              float64\n",
       "discount           float64\n",
       "total              float64\n",
       "dtype: object"
      ]
     },
     "execution_count": 14,
     "metadata": {},
     "output_type": "execute_result"
    }
   ],
   "source": [
    "df.dtypes"
   ]
  },
  {
   "cell_type": "markdown",
   "metadata": {},
   "source": [
    "## Exploration des données"
   ]
  },
  {
   "cell_type": "code",
   "execution_count": 15,
   "metadata": {},
   "outputs": [
    {
     "data": {
      "text/plain": [
       "produit\n",
       "BAGUETTE TRADITION                 571\n",
       "SAC KRAFT AMBIANT PURE.P 90G,1P    521\n",
       "AVOCAT                             512\n",
       "CRISTALINE 1.5L X6                 406\n",
       "CONCOMBRE                          391\n",
       "                                  ... \n",
       "PATE TART.BIO CHOC NOISET,,350       1\n",
       "DCHE COCO.3X300ML                    1\n",
       "PATE TARTINE S/H.PALME BIO.270G      1\n",
       "DCHE COCO,USHUAIA,300ML              1\n",
       "\"LICORNE\" SERV. 33X33X20             1\n",
       "Name: quantity, Length: 22732, dtype: int64"
      ]
     },
     "execution_count": 15,
     "metadata": {},
     "output_type": "execute_result"
    }
   ],
   "source": [
    "#Produits les plus vendus\n",
    "\n",
    "df.groupby('produit')['quantity'].sum().sort_values(ascending=False)"
   ]
  },
  {
   "cell_type": "code",
   "execution_count": 16,
   "metadata": {},
   "outputs": [
    {
     "data": {
      "text/plain": [
       "102132"
      ]
     },
     "execution_count": 16,
     "metadata": {},
     "output_type": "execute_result"
    }
   ],
   "source": [
    "#Nombre d'articles vendus dans la journée\n",
    "\n",
    "df.groupby('EAN')['quantity'].sum().sum()"
   ]
  },
  {
   "cell_type": "code",
   "execution_count": 17,
   "metadata": {},
   "outputs": [
    {
     "data": {
      "text/plain": [
       "313359.76"
      ]
     },
     "execution_count": 17,
     "metadata": {},
     "output_type": "execute_result"
    }
   ],
   "source": [
    "# CA de la journée\n",
    "\n",
    "df.groupby('EAN')['total'].sum().sum()"
   ]
  },
  {
   "cell_type": "code",
   "execution_count": 58,
   "metadata": {},
   "outputs": [],
   "source": [
    "# Code article non renseigné\n",
    "\n",
    "df_code = df[df['code_article']== -1]"
   ]
  },
  {
   "cell_type": "code",
   "execution_count": 56,
   "metadata": {},
   "outputs": [
    {
     "data": {
      "text/plain": [
       "produit\n",
       "8.6 ORIGINAL BOITE 50CL (8,6%)                                        6\n",
       "CT/PTITS FRS FRUITS X16,225G                                          3\n",
       "CT/16 PTITS FRS CHOCOLAT,215G                                         2\n",
       "DEJEUNETTE X 5                                            2 X 1.00    1\n",
       "DEJEUNETTE X 5                                            3 X 1.00    1\n",
       "PAVE MAIS                                                             1\n",
       "SERV INCONTI.MAXI NUIT,L&G,1P                                         1\n",
       "Name: quantity, dtype: int64"
      ]
     },
     "execution_count": 56,
     "metadata": {},
     "output_type": "execute_result"
    }
   ],
   "source": [
    "df_code.groupby('produit')['quantity'].sum().sort_values(ascending=False)"
   ]
  },
  {
   "cell_type": "code",
   "execution_count": 64,
   "metadata": {},
   "outputs": [],
   "source": [
    "# Fournisseur non renseigné\n",
    "\n",
    "df_supp = df[df['supplier_id']== -1]"
   ]
  },
  {
   "cell_type": "code",
   "execution_count": 67,
   "metadata": {},
   "outputs": [
    {
     "data": {
      "text/plain": [
       "produit\n",
       "8.6 ORIGINAL BOITE 50CL (8,6%)                                        6\n",
       "CT/PTITS FRS FRUITS X16,225G                                          3\n",
       "CT/16 PTITS FRS CHOCOLAT,215G                                         2\n",
       "DEJEUNETTE X 5                                            2 X 1.00    1\n",
       "DEJEUNETTE X 5                                            3 X 1.00    1\n",
       "PAVE MAIS                                                             1\n",
       "SERV INCONTI.MAXI NUIT,L&G,1P                                         1\n",
       "Name: quantity, dtype: int64"
      ]
     },
     "execution_count": 67,
     "metadata": {},
     "output_type": "execute_result"
    }
   ],
   "source": [
    "df_supp.groupby('produit')['quantity'].sum().sort_values(ascending=False)"
   ]
  },
  {
   "cell_type": "markdown",
   "metadata": {},
   "source": [
    "### Rayon / Famille / Sous-famille non renseignés"
   ]
  },
  {
   "cell_type": "code",
   "execution_count": 59,
   "metadata": {},
   "outputs": [],
   "source": [
    "df_sub = df[df['sub_category_id']== -1]"
   ]
  },
  {
   "cell_type": "code",
   "execution_count": 61,
   "metadata": {},
   "outputs": [
    {
     "data": {
      "text/plain": [
       "640"
      ]
     },
     "execution_count": 61,
     "metadata": {},
     "output_type": "execute_result"
    }
   ],
   "source": [
    "len(df_sub.groupby('produit')['quantity'].sum().sort_values(ascending=False))"
   ]
  },
  {
   "cell_type": "code",
   "execution_count": 48,
   "metadata": {},
   "outputs": [],
   "source": [
    "df_inconnu = df[df['rayon']=='inconnu']"
   ]
  },
  {
   "cell_type": "code",
   "execution_count": 54,
   "metadata": {},
   "outputs": [
    {
     "data": {
      "text/plain": [
       "produit\n",
       "850GX1 SKYR NAT                    72\n",
       "FROMAGE FRAIS 3% 1KG DELISSE       34\n",
       "YAOURT GREQUE,4X150G               27\n",
       "6 WRAPS DE BLE NATURE 350G TDM     26\n",
       "PISTACHES NON SALE,TOKAPI,125G     26\n",
       "                                   ..\n",
       "SAUCE TOMATE ET HERBES OEP 395G     1\n",
       "FJORD NATURE/FL SUREAU.8X125G       1\n",
       "SAUCE SRIRACHA,YUM YUM,180ML        1\n",
       "SAUCE SOJA,AYAM,210ML               1\n",
       "YT LAIT BREBIS MIXE FRAISE X4       1\n",
       "Name: quantity, Length: 640, dtype: int64"
      ]
     },
     "execution_count": 54,
     "metadata": {},
     "output_type": "execute_result"
    }
   ],
   "source": [
    "df_inconnu.groupby('produit')['quantity'].sum().sort_values(ascending=False)"
   ]
  },
  {
   "cell_type": "markdown",
   "metadata": {},
   "source": [
    "### Exploration des rayons"
   ]
  },
  {
   "cell_type": "code",
   "execution_count": 62,
   "metadata": {},
   "outputs": [
    {
     "data": {
      "text/plain": [
       "59"
      ]
     },
     "execution_count": 62,
     "metadata": {},
     "output_type": "execute_result"
    }
   ],
   "source": [
    "# Nombre de rayons différents\n",
    "len(df['rayon'].unique())"
   ]
  },
  {
   "cell_type": "code",
   "execution_count": 63,
   "metadata": {},
   "outputs": [
    {
     "data": {
      "text/plain": [
       "rayon\n",
       "EPICERIE                      23509\n",
       "CREMERIE                      12616\n",
       "FRUITS ET LEGUMES LS          11174\n",
       "LIQUIDES                      11135\n",
       "CHARCUT. LS                    7146\n",
       "PARFUMERIE/HYGIENE             5742\n",
       "ENTRETIEN/LAVAGE               3303\n",
       "Sous rayon 119                 2839\n",
       "inconnu                        2509\n",
       "TRAITEUR TRAD. LS              2038\n",
       "SURGELES                       1963\n",
       "Sous rayon 118                 1478\n",
       "GAMME LS                       1154\n",
       "VOLAILLES                      1127\n",
       "JARDINAGE                      1015\n",
       "TRAITEUR TRAD. COUPE           1006\n",
       "POISSONNERIE                    953\n",
       "TEXTILE SAISONNIER              930\n",
       "TEXTILE PERMANENT               891\n",
       "DIVERS BAZAR                    863\n",
       "SAURISSERIE                     853\n",
       "VAISSELLE                       754\n",
       "BOUCH. FRAIS EMBALLE            676\n",
       "PAPETERIE                       664\n",
       "MENAGES PLASTIQUES              650\n",
       "BOUCHERE LS                     553\n",
       "TOTAL BOUCH. FRAIS EMBALLE      503\n",
       "BOUCHERIE TRAD                  422\n",
       "PATISSERIE/VIENNOISERIE         352\n",
       "JOUETS                          328\n",
       "FRUITS ET LEGUMES BALANCE       304\n",
       "ESPACE CULTUREL                 300\n",
       "PUERICULTURE                    278\n",
       "CHAUSSURES                      230\n",
       "ACCESS. ANIMAUX                 214\n",
       "ELECTRICITE                     209\n",
       "AUTO                            191\n",
       "PEINTURE                        155\n",
       "RAYON CAMPING                   153\n",
       "Sous rayon 113                  141\n",
       "OUTILLAGE/BRICO                 121\n",
       "Sous rayon 193                  121\n",
       "PETIT MENAGER                   109\n",
       "Sous rayon 123                  107\n",
       "BOULANGERIE                      78\n",
       "CUIR                             65\n",
       "VELOS/SPORT                      46\n",
       "TOTAL BOUCHERE LS                32\n",
       "BOUT.OR                          28\n",
       "RAYON BAGAGES                    22\n",
       "TOTAL ELECTRICITE                21\n",
       "DIVERS                           14\n",
       "PARAPHARMACIE                    13\n",
       "Rayon anomalies                  12\n",
       "TOTAL PARFUMERIE/HYGIENE         11\n",
       "Sous rayon 132                    5\n",
       "TOTAL LUMINAIRE                   4\n",
       "BLANC                             1\n",
       "Sous rayon 192                    1\n",
       "Name: quantity, dtype: int64"
      ]
     },
     "execution_count": 63,
     "metadata": {},
     "output_type": "execute_result"
    }
   ],
   "source": [
    "# Rayons qui se vendent le plus (en quantité)\n",
    "\n",
    "df.groupby('rayon')['quantity'].sum().sort_values(ascending=False)"
   ]
  },
  {
   "cell_type": "code",
   "execution_count": 20,
   "metadata": {},
   "outputs": [
    {
     "data": {
      "text/plain": [
       "rayon\n",
       "EPICERIE                      55308.89\n",
       "LIQUIDES                      33066.67\n",
       "CREMERIE                      27447.57\n",
       "FRUITS ET LEGUMES LS          23705.54\n",
       "PARFUMERIE/HYGIENE            22415.18\n",
       "CHARCUT. LS                   15464.59\n",
       "ENTRETIEN/LAVAGE              10592.23\n",
       "TRAITEUR TRAD. LS              9570.36\n",
       "TEXTILE PERMANENT              8849.52\n",
       "TEXTILE SAISONNIER             8659.72\n",
       "JARDINAGE                      6584.17\n",
       "inconnu                        6304.53\n",
       "POISSONNERIE                   6177.63\n",
       "VAISSELLE                      5769.28\n",
       "SURGELES                       5669.37\n",
       "VOLAILLES                      5640.32\n",
       "JOUETS                         4762.61\n",
       "Sous rayon 118                 4361.65\n",
       "TRAITEUR TRAD. COUPE           4094.75\n",
       "PUERICULTURE                   4001.34\n",
       "BOUCHERIE TRAD                 3560.52\n",
       "PETIT MENAGER                  3410.53\n",
       "TOTAL BOUCH. FRAIS EMBALLE     3213.56\n",
       "RAYON CAMPING                  3166.76\n",
       "BOUCH. FRAIS EMBALLE           3042.99\n",
       "Sous rayon 119                 2759.08\n",
       "SAURISSERIE                    2720.11\n",
       "MENAGES PLASTIQUES             2564.51\n",
       "GAMME LS                       2358.56\n",
       "CHAUSSURES                     2306.89\n",
       "BOUCHERE LS                    2270.30\n",
       "PAPETERIE                      1742.89\n",
       "PATISSERIE/VIENNOISERIE        1279.49\n",
       "CUIR                           1222.78\n",
       "OUTILLAGE/BRICO                1071.05\n",
       "AUTO                           1044.09\n",
       "ELECTRICITE                    1028.23\n",
       "ACCESS. ANIMAUX                 850.26\n",
       "PEINTURE                        682.34\n",
       "DIVERS BAZAR                    634.35\n",
       "FRUITS ET LEGUMES BALANCE       625.83\n",
       "Sous rayon 123                  568.76\n",
       "RAYON BAGAGES                   405.75\n",
       "VELOS/SPORT                     363.96\n",
       "TOTAL BOUCHERE LS               343.93\n",
       "Sous rayon 113                  335.16\n",
       "Sous rayon 193                  319.49\n",
       "ESPACE CULTUREL                 253.39\n",
       "BOUT.OR                         172.16\n",
       "BLANC                           149.90\n",
       "TOTAL ELECTRICITE               108.56\n",
       "BOULANGERIE                      82.55\n",
       "PARAPHARMACIE                    68.15\n",
       "Sous rayon 132                   64.89\n",
       "TOTAL PARFUMERIE/HYGIENE         54.12\n",
       "TOTAL LUMINAIRE                  52.80\n",
       "Rayon anomalies                  15.00\n",
       "DIVERS                            0.14\n",
       "Sous rayon 192                    0.01\n",
       "Name: total, dtype: float64"
      ]
     },
     "execution_count": 20,
     "metadata": {},
     "output_type": "execute_result"
    }
   ],
   "source": [
    "# Rayons qui génèrent le plus de CA\n",
    "\n",
    "df.groupby('rayon')['total'].sum().sort_values(ascending=False)"
   ]
  },
  {
   "cell_type": "code",
   "execution_count": 21,
   "metadata": {},
   "outputs": [],
   "source": [
    "# Data du rayon qui nous intéresse => Traiteur Traditionnel à la Coupe (Rayon N°20)\n",
    "\n",
    "df_traiteur = df[df['rayon'] == 'TRAITEUR TRAD. COUPE']"
   ]
  },
  {
   "cell_type": "code",
   "execution_count": 22,
   "metadata": {},
   "outputs": [
    {
     "data": {
      "text/plain": [
       "category\n",
       "TRAITEUR TRAD. COUPE    841\n",
       "ROTISSOIRE              159\n",
       "COMMANDE TRAITEUR         6\n",
       "Name: quantity, dtype: int64"
      ]
     },
     "execution_count": 22,
     "metadata": {},
     "output_type": "execute_result"
    }
   ],
   "source": [
    "# Les familles du rayon ayant le plus de ventes\n",
    "\n",
    "df_traiteur.groupby('category')['quantity'].sum().sort_values(ascending=False)"
   ]
  },
  {
   "cell_type": "code",
   "execution_count": 23,
   "metadata": {},
   "outputs": [
    {
     "data": {
      "text/plain": [
       "category\n",
       "TRAITEUR TRAD. COUPE    3199.95\n",
       "ROTISSOIRE               832.70\n",
       "COMMANDE TRAITEUR         62.10\n",
       "Name: total, dtype: float64"
      ]
     },
     "execution_count": 23,
     "metadata": {},
     "output_type": "execute_result"
    }
   ],
   "source": [
    "# Leur CA\n",
    "\n",
    "df_traiteur.groupby('category')['total'].sum().sort_values(ascending=False)"
   ]
  },
  {
   "cell_type": "code",
   "execution_count": 24,
   "metadata": {},
   "outputs": [
    {
     "data": {
      "text/plain": [
       "4"
      ]
     },
     "execution_count": 24,
     "metadata": {},
     "output_type": "execute_result"
    }
   ],
   "source": [
    "# Nombre de sous-familles\n",
    "len(df_traiteur['sub_category'].unique())"
   ]
  },
  {
   "cell_type": "code",
   "execution_count": 25,
   "metadata": {},
   "outputs": [
    {
     "data": {
      "text/plain": [
       "sub_category\n",
       "AUTRE TRAITEUR TRADITIONNE    841\n",
       "POINT CHAUD/ROTISSERIE        121\n",
       "PIZZA BASE TOMATE              38\n",
       "BUFFETS/MENUS/PLATEAUX REP      6\n",
       "Name: quantity, dtype: int64"
      ]
     },
     "execution_count": 25,
     "metadata": {},
     "output_type": "execute_result"
    }
   ],
   "source": [
    "# Sous-familles de produits ayant le plus de ventes (en quantité)\n",
    "\n",
    "df_traiteur.groupby('sub_category')['quantity'].sum().sort_values(ascending=False)"
   ]
  },
  {
   "cell_type": "code",
   "execution_count": 26,
   "metadata": {},
   "outputs": [
    {
     "data": {
      "text/plain": [
       "sub_category\n",
       "AUTRE TRAITEUR TRADITIONNE    3199.95\n",
       "POINT CHAUD/ROTISSERIE         621.60\n",
       "PIZZA BASE TOMATE              211.10\n",
       "BUFFETS/MENUS/PLATEAUX REP      62.10\n",
       "Name: total, dtype: float64"
      ]
     },
     "execution_count": 26,
     "metadata": {},
     "output_type": "execute_result"
    }
   ],
   "source": [
    "# Sous-familles de produits générant le plus de CA\n",
    "\n",
    "df_traiteur.groupby('sub_category')['total'].sum().sort_values(ascending=False)"
   ]
  },
  {
   "cell_type": "code",
   "execution_count": 27,
   "metadata": {},
   "outputs": [],
   "source": [
    "df_trad = df_traiteur[df_traiteur['sub_category'] == 'AUTRE TRAITEUR TRADITIONNE']\n",
    "df_rotisserie = df_traiteur[df_traiteur['sub_category'] == 'POINT CHAUD/ROTISSERIE']\n",
    "df_pizza = df_traiteur[df_traiteur['sub_category'] == 'PIZZA BASE TOMATE']\n",
    "df_commande = df_traiteur[df_traiteur['sub_category'] == 'BUFFETS/MENUS/PLATEAUX REP']"
   ]
  },
  {
   "cell_type": "code",
   "execution_count": 28,
   "metadata": {},
   "outputs": [
    {
     "name": "stdout",
     "output_type": "stream",
     "text": [
      "trad : 186\n",
      "rotisserie : 15\n",
      "pizza : 14\n",
      "commande : 3\n"
     ]
    }
   ],
   "source": [
    "# Nombre de produits par sous-familles\n",
    "\n",
    "print('trad :',len(df_trad['produit'].unique()))\n",
    "print('rotisserie :',len(df_rotisserie['produit'].unique()))\n",
    "print('pizza :',len(df_pizza['produit'].unique()))\n",
    "print('commande :',len(df_commande['produit'].unique()))"
   ]
  },
  {
   "cell_type": "code",
   "execution_count": 29,
   "metadata": {},
   "outputs": [
    {
     "data": {
      "text/plain": [
       "produit\n",
       "JAMBON SALEE A LA VEINE        20\n",
       "JAMBON B. PORC FERMIER         18\n",
       "JAMBON BLANC  LABEL ROUGE      18\n",
       "MORTADELLE PISTACHEE           17\n",
       "JAMBON B. AC TRADILEGE         16\n",
       "                               ..\n",
       "FILET POULET AUX CEPES          1\n",
       "FEUILLANTINE SAUMON             1\n",
       "FARCE A TOMATE BEGEIN           1\n",
       "ENCORNET FARCIS ARMORICAINE     1\n",
       "JAMBON AC SAVEUR DE L'ANNEE     1\n",
       "Name: quantity, Length: 186, dtype: int64"
      ]
     },
     "execution_count": 29,
     "metadata": {},
     "output_type": "execute_result"
    }
   ],
   "source": [
    "# Produits TRAD qui se vendent le plus (en quantité)\n",
    "\n",
    "df_trad.groupby('produit')['quantity'].sum().sort_values(ascending=False)"
   ]
  },
  {
   "cell_type": "code",
   "execution_count": 30,
   "metadata": {},
   "outputs": [
    {
     "data": {
      "text/plain": [
       "produit\n",
       "JAMBON SALEE A LA VEINE        91.52\n",
       "PALETTE PROVENCALE             86.76\n",
       "JAMBON B. PORC FERMIER         81.87\n",
       "JAMBON BLANC  LABEL ROUGE      80.99\n",
       "COEUR DE MERLU                 76.70\n",
       "                               ...  \n",
       "SALAMI DANOIS                   1.49\n",
       "PAVE POIVRE                     1.37\n",
       "JAMBON AC SAVEUR DE L'ANNEE     1.18\n",
       "NOISETIER                       0.69\n",
       "SAUCE CUISINEE DIVERS           0.37\n",
       "Name: total, Length: 186, dtype: float64"
      ]
     },
     "execution_count": 30,
     "metadata": {},
     "output_type": "execute_result"
    }
   ],
   "source": [
    "# Produits TRAD qui génèrent le plus de CA\n",
    "\n",
    "df_trad.groupby('produit')['total'].sum().sort_values(ascending=False)"
   ]
  },
  {
   "cell_type": "code",
   "execution_count": 31,
   "metadata": {},
   "outputs": [
    {
     "data": {
      "text/plain": [
       "produit\n",
       "POULET BLANC  ROTI            32\n",
       "VOLAILLE ROTI GARNIE X1       25\n",
       "CUISSE POULET PDT X2          23\n",
       "POULET BLANC ROTI 1/2          8\n",
       "POULET FERMIER DE CHALLANS     8\n",
       "TRAVERS DE PORC ROTI           5\n",
       "POMMES DE TERRE ROTIES         4\n",
       "CHORIZO DOUX ET COURGETTES     3\n",
       "PALETTE SAVOYARDE GARNIE       3\n",
       "ROTI ***                       2\n",
       "ROTI POC SANS OS GARNI         2\n",
       "SAUCISSE CELTE OIGNON          2\n",
       "TRAVERS DE PORC ROTI GARNI     2\n",
       "PALETTE PROVENCALE GARNIE      1\n",
       "PALETTE SAVOYADE               1\n",
       "Name: quantity, dtype: int64"
      ]
     },
     "execution_count": 31,
     "metadata": {},
     "output_type": "execute_result"
    }
   ],
   "source": [
    "# Produits ROTISSERIE qui se vendent le plus (en quantité)\n",
    "\n",
    "df_rotisserie.groupby('produit')['quantity'].sum().sort_values(ascending=False)"
   ]
  },
  {
   "cell_type": "code",
   "execution_count": 32,
   "metadata": {},
   "outputs": [
    {
     "data": {
      "text/plain": [
       "produit\n",
       "POULET BLANC  ROTI            207.85\n",
       "VOLAILLE ROTI GARNIE X1        98.05\n",
       "CUISSE POULET PDT X2           91.77\n",
       "POULET FERMIER DE CHALLANS     87.10\n",
       "POULET BLANC ROTI 1/2          28.00\n",
       "TRAVERS DE PORC ROTI           24.71\n",
       "ROTI ***                       16.42\n",
       "PALETTE SAVOYARDE GARNIE       12.69\n",
       "POMMES DE TERRE ROTIES         12.36\n",
       "TRAVERS DE PORC ROTI GARNI     11.19\n",
       "CHORIZO DOUX ET COURGETTES     10.50\n",
       "ROTI POC SANS OS GARNI          9.12\n",
       "PALETTE PROVENCALE GARNIE       5.23\n",
       "SAUCISSE CELTE OIGNON           5.06\n",
       "PALETTE SAVOYADE                1.55\n",
       "Name: total, dtype: float64"
      ]
     },
     "execution_count": 32,
     "metadata": {},
     "output_type": "execute_result"
    }
   ],
   "source": [
    "# Produits ROTISSERIE qui genèrent le plus de CA\n",
    "\n",
    "df_rotisserie.groupby('produit')['total'].sum().sort_values(ascending=False)"
   ]
  },
  {
   "cell_type": "code",
   "execution_count": 33,
   "metadata": {},
   "outputs": [
    {
     "data": {
      "text/plain": [
       "produit\n",
       "PIZZA 4 FROMAGES                6\n",
       "PIZZA DIAVOLA 1 KG              6\n",
       "PIZZA FROMAGE 320 GR            6\n",
       "PIZZA JAMBON EMMENTAL 2X140G    3\n",
       "PIZZA TIROLESE                  3\n",
       "BRUSCHETTA JAMBON SEC           2\n",
       "PIZZA CAPRICCIOSA 550G          2\n",
       "PIZZA DIAVOLA 550G              2\n",
       "PIZZA DOLOMITES 320 GR          2\n",
       "PIZZA REGINA                    2\n",
       "PIZZA BUFALINA 550G             1\n",
       "PIZZA CONTADINA,550G            1\n",
       "PIZZA PICCANTINA 320 GR         1\n",
       "PIZZA SICILIANA                 1\n",
       "Name: quantity, dtype: int64"
      ]
     },
     "execution_count": 33,
     "metadata": {},
     "output_type": "execute_result"
    }
   ],
   "source": [
    "# Produits PIZZA qui se vendent le plus (en quantité)\n",
    "\n",
    "df_pizza.groupby('produit')['quantity'].sum().sort_values(ascending=False)"
   ]
  },
  {
   "cell_type": "code",
   "execution_count": 34,
   "metadata": {},
   "outputs": [
    {
     "data": {
      "text/plain": [
       "produit\n",
       "PIZZA 4 FROMAGES                45.00\n",
       "PIZZA DIAVOLA 1 KG              25.50\n",
       "PIZZA FROMAGE 320 GR            25.50\n",
       "PIZZA TIROLESE                  20.85\n",
       "PIZZA CAPRICCIOSA 550G          15.00\n",
       "PIZZA DIAVOLA 550G              15.00\n",
       "PIZZA JAMBON EMMENTAL 2X140G    12.60\n",
       "PIZZA DOLOMITES 320 GR           8.50\n",
       "PIZZA REGINA                     8.50\n",
       "BRUSCHETTA JAMBON SEC            7.90\n",
       "PIZZA BUFALINA 550G              7.50\n",
       "PIZZA CONTADINA,550G             7.50\n",
       "PIZZA SICILIANA                  7.50\n",
       "PIZZA PICCANTINA 320 GR          4.25\n",
       "Name: total, dtype: float64"
      ]
     },
     "execution_count": 34,
     "metadata": {},
     "output_type": "execute_result"
    }
   ],
   "source": [
    "# Produits PIZZA qui genèrent le plus de CA\n",
    "\n",
    "df_pizza.groupby('produit')['total'].sum().sort_values(ascending=False)"
   ]
  },
  {
   "cell_type": "code",
   "execution_count": 35,
   "metadata": {},
   "outputs": [
    {
     "data": {
      "text/plain": [
       "produit\n",
       "PLATEAU ASIATIQ.350G         4\n",
       "COMMANDE TRAITEUR            1\n",
       "PLATEAU ASIATIQUE 590G FE    1\n",
       "Name: quantity, dtype: int64"
      ]
     },
     "execution_count": 35,
     "metadata": {},
     "output_type": "execute_result"
    }
   ],
   "source": [
    "# Produits SUR COMMANDE qui se vendent le plus (en quantité)\n",
    "\n",
    "df_commande.groupby('produit')['quantity'].sum().sort_values(ascending=False)"
   ]
  },
  {
   "cell_type": "code",
   "execution_count": 36,
   "metadata": {},
   "outputs": [
    {
     "data": {
      "text/plain": [
       "produit\n",
       "COMMANDE TRAITEUR            38.7\n",
       "PLATEAU ASIATIQ.350G         15.8\n",
       "PLATEAU ASIATIQUE 590G FE     7.6\n",
       "Name: total, dtype: float64"
      ]
     },
     "execution_count": 36,
     "metadata": {},
     "output_type": "execute_result"
    }
   ],
   "source": [
    "# Produits SUR COMMANDE qui génèrent le plus de CA\n",
    "\n",
    "df_commande.groupby('produit')['total'].sum().sort_values(ascending=False)"
   ]
  },
  {
   "cell_type": "markdown",
   "metadata": {},
   "source": [
    "Questions à voir :\n",
    "\n",
    "- Ceux qui travaillent en production boucherie/charcuterie/traiteur mettent-ils des produits en LS ? (sous-vide / sous-atmosphère / tests de maturation pour meilleure connaissance DLC)\n",
    "- Fait-on uniquement le Traiteur à la Coupe (SA) ? Fait-on aussi du LS ? Epicerie ? (59 rayons identifiés dans le dataset)\n",
    "- Possibilité d'avoir une identification plus précise des produits avec leur saisonnalité / produits festifs (précommandes ?) ?\n",
    "- Doit-on prioriser la production par ventes / CA généré / marge (info non fournie) ?\n",
    "- A quoi correspondent exactement les doublons ? (Manière de passer les produits en caisse ? ex : soit on modifie la quantité, soit on passe rapidement plusieurs fois le même produit)\n",
    "- 640 produits ont des fiches sans rayon renseigné\n",
    "- 7 noms de rayons mal renseignés\n",
    "- 7 produits sans code article / fournisseurs / etc\n",
    "- Aucune réduction renseignée (Pas de -10% / -20% / -30% sur les produits bientôt à date ?), pourrait être utile pour identifier les produits plus sensibles à la démarque régulière\n",
    "- Pourquoi plusieurs EAN pour même produit ? (Sont-ce des produits très légèrement différents ? Ancien/nouveau code barre d'un même produit qui a légèrement été remanié ? Fin du code-barre qui change suivant grammage (SA) ? )\n",
    "- Sous quel laps de temps l'info doit-elle être mise à jour ? (Surtout pour le stock alert, pas la prédiction)"
   ]
  },
  {
   "cell_type": "markdown",
   "metadata": {},
   "source": [
    "## Distribution des features"
   ]
  },
  {
   "cell_type": "code",
   "execution_count": 68,
   "metadata": {},
   "outputs": [],
   "source": [
    "#Importation librairies pour visualisations graphiques\n",
    "import matplotlib.pyplot as plt\n",
    "import seaborn as sns"
   ]
  },
  {
   "cell_type": "code",
   "execution_count": 74,
   "metadata": {},
   "outputs": [
    {
     "data": {
      "image/png": "[encoded data removed]",
      "text/plain": [
       "<Figure size 432x288 with 1 Axes>"
      ]
     },
     "metadata": {
      "needs_background": "light"
     },
     "output_type": "display_data"
    }
   ],
   "source": [
    "# Ventes - Distribution\n",
    "sns.histplot(data=df_trad, x='total')\n",
    "plt.title('Ventes')\n",
    "plt.xscale('log')\n",
    "plt.show()"
   ]
  },
  {
   "cell_type": "code",
   "execution_count": 91,
   "metadata": {},
   "outputs": [
    {
     "name": "stderr",
     "output_type": "stream",
     "text": [
      "C:\\Users\\APPREN~1\\AppData\\Local\\Temp/ipykernel_11816/1064562814.py:1: SettingWithCopyWarning: \n",
      "A value is trying to be set on a copy of a slice from a DataFrame.\n",
      "Try using .loc[row_indexer,col_indexer] = value instead\n",
      "\n",
      "See the caveats in the documentation: https://pandas.pydata.org/pandas-docs/stable/user_guide/indexing.html#returning-a-view-versus-a-copy\n",
      "  df_trad['hour'] = df_trad['date'].str.strip().str[-5:]\n"
     ]
    }
   ],
   "source": [
    "df_trad['hour'] = df_trad['date'].str.strip().str[-5:]"
   ]
  },
  {
   "cell_type": "code",
   "execution_count": 100,
   "metadata": {},
   "outputs": [
    {
     "name": "stderr",
     "output_type": "stream",
     "text": [
      "C:\\Users\\APPREN~1\\AppData\\Local\\Temp/ipykernel_11816/699340184.py:1: SettingWithCopyWarning: \n",
      "A value is trying to be set on a copy of a slice from a DataFrame.\n",
      "Try using .loc[row_indexer,col_indexer] = value instead\n",
      "\n",
      "See the caveats in the documentation: https://pandas.pydata.org/pandas-docs/stable/user_guide/indexing.html#returning-a-view-versus-a-copy\n",
      "  df_trad['minutes'] = df_trad['date'].str.strip().str[-2:]\n",
      "C:\\Users\\APPREN~1\\AppData\\Local\\Temp/ipykernel_11816/699340184.py:2: SettingWithCopyWarning: \n",
      "A value is trying to be set on a copy of a slice from a DataFrame.\n",
      "Try using .loc[row_indexer,col_indexer] = value instead\n",
      "\n",
      "See the caveats in the documentation: https://pandas.pydata.org/pandas-docs/stable/user_guide/indexing.html#returning-a-view-versus-a-copy\n",
      "  df_trad['hour'] = df_trad['hour'].str.strip().str[:2]\n"
     ]
    }
   ],
   "source": [
    "df_trad['minutes'] = df_trad['date'].str.strip().str[-2:]\n",
    "df_trad['hour'] = df_trad['hour'].str.strip().str[:2]"
   ]
  },
  {
   "cell_type": "code",
   "execution_count": 101,
   "metadata": {},
   "outputs": [
    {
     "data": {
      "text/html": [
       "<div>\n",
       "<style scoped>\n",
       "    .dataframe tbody tr th:only-of-type {\n",
       "        vertical-align: middle;\n",
       "    }\n",
       "\n",
       "    .dataframe tbody tr th {\n",
       "        vertical-align: top;\n",
       "    }\n",
       "\n",
       "    .dataframe thead th {\n",
       "        text-align: right;\n",
       "    }\n",
       "</style>\n",
       "<table border=\"1\" class=\"dataframe\">\n",
       "  <thead>\n",
       "    <tr style=\"text-align: right;\">\n",
       "      <th></th>\n",
       "      <th>date</th>\n",
       "      <th>ticket</th>\n",
       "      <th>caisse</th>\n",
       "      <th>rayon</th>\n",
       "      <th>rayon_id</th>\n",
       "      <th>category</th>\n",
       "      <th>category_id</th>\n",
       "      <th>sub_category</th>\n",
       "      <th>sub_category_id</th>\n",
       "      <th>produit</th>\n",
       "      <th>code_article</th>\n",
       "      <th>EAN</th>\n",
       "      <th>CODELEC</th>\n",
       "      <th>supplier</th>\n",
       "      <th>supplier_id</th>\n",
       "      <th>raison_sociale</th>\n",
       "      <th>marque</th>\n",
       "      <th>quantity</th>\n",
       "      <th>value</th>\n",
       "      <th>discount</th>\n",
       "      <th>total</th>\n",
       "      <th>hour</th>\n",
       "      <th>minutes</th>\n",
       "    </tr>\n",
       "  </thead>\n",
       "  <tbody>\n",
       "    <tr>\n",
       "      <th>36</th>\n",
       "      <td>21 avril 2022 09:56</td>\n",
       "      <td>0 02RR 00500</td>\n",
       "      <td>2</td>\n",
       "      <td>TRAITEUR TRAD. COUPE</td>\n",
       "      <td>20.0</td>\n",
       "      <td>TRAITEUR TRAD. COUPE</td>\n",
       "      <td>3.0</td>\n",
       "      <td>AUTRE TRAITEUR TRADITIONNE</td>\n",
       "      <td>11998.0</td>\n",
       "      <td>LANGUE BOEUF PIQUANTE</td>\n",
       "      <td>12230330.0</td>\n",
       "      <td>210503000000</td>\n",
       "      <td>466801010.0</td>\n",
       "      <td>RAYON TRAITEUR 2020</td>\n",
       "      <td>8.890000e+09</td>\n",
       "      <td>E. Leclerc</td>\n",
       "      <td>LANGUE BOEUF PIQUANTE</td>\n",
       "      <td>1</td>\n",
       "      <td>3.86</td>\n",
       "      <td>0.0</td>\n",
       "      <td>3.86</td>\n",
       "      <td>09</td>\n",
       "      <td>56</td>\n",
       "    </tr>\n",
       "    <tr>\n",
       "      <th>38</th>\n",
       "      <td>21 avril 2022 09:56</td>\n",
       "      <td>0 02RR 00500</td>\n",
       "      <td>2</td>\n",
       "      <td>TRAITEUR TRAD. COUPE</td>\n",
       "      <td>20.0</td>\n",
       "      <td>TRAITEUR TRAD. COUPE</td>\n",
       "      <td>3.0</td>\n",
       "      <td>AUTRE TRAITEUR TRADITIONNE</td>\n",
       "      <td>11998.0</td>\n",
       "      <td>AIGUILLETTE POULET</td>\n",
       "      <td>1024041.0</td>\n",
       "      <td>210558000000</td>\n",
       "      <td>466801010.0</td>\n",
       "      <td>RAYON TRAITEUR 2020</td>\n",
       "      <td>8.890000e+09</td>\n",
       "      <td>E. Leclerc</td>\n",
       "      <td>E. Leclerc</td>\n",
       "      <td>1</td>\n",
       "      <td>3.57</td>\n",
       "      <td>0.0</td>\n",
       "      <td>3.57</td>\n",
       "      <td>09</td>\n",
       "      <td>56</td>\n",
       "    </tr>\n",
       "    <tr>\n",
       "      <th>39</th>\n",
       "      <td>21 avril 2022 09:56</td>\n",
       "      <td>0 02RR 00500</td>\n",
       "      <td>2</td>\n",
       "      <td>TRAITEUR TRAD. COUPE</td>\n",
       "      <td>20.0</td>\n",
       "      <td>TRAITEUR TRAD. COUPE</td>\n",
       "      <td>3.0</td>\n",
       "      <td>AUTRE TRAITEUR TRADITIONNE</td>\n",
       "      <td>11998.0</td>\n",
       "      <td>COEUR DE MERLU</td>\n",
       "      <td>1171040.0</td>\n",
       "      <td>210485000000</td>\n",
       "      <td>466801010.0</td>\n",
       "      <td>RAYON TRAITEUR 2020</td>\n",
       "      <td>8.890000e+09</td>\n",
       "      <td>E. Leclerc</td>\n",
       "      <td>E. Leclerc</td>\n",
       "      <td>1</td>\n",
       "      <td>5.90</td>\n",
       "      <td>0.0</td>\n",
       "      <td>5.90</td>\n",
       "      <td>09</td>\n",
       "      <td>56</td>\n",
       "    </tr>\n",
       "    <tr>\n",
       "      <th>53</th>\n",
       "      <td>21 avril 2022 09:56</td>\n",
       "      <td>0 02RR 00500</td>\n",
       "      <td>2</td>\n",
       "      <td>TRAITEUR TRAD. COUPE</td>\n",
       "      <td>20.0</td>\n",
       "      <td>TRAITEUR TRAD. COUPE</td>\n",
       "      <td>3.0</td>\n",
       "      <td>AUTRE TRAITEUR TRADITIONNE</td>\n",
       "      <td>11998.0</td>\n",
       "      <td>JAMBON BLANC  LABEL ROUGE</td>\n",
       "      <td>1021799.0</td>\n",
       "      <td>210004000000</td>\n",
       "      <td>466801010.0</td>\n",
       "      <td>RAYON TRAITEUR 2020</td>\n",
       "      <td>8.890000e+09</td>\n",
       "      <td>E. Leclerc</td>\n",
       "      <td>E. Leclerc</td>\n",
       "      <td>1</td>\n",
       "      <td>3.41</td>\n",
       "      <td>0.0</td>\n",
       "      <td>3.41</td>\n",
       "      <td>09</td>\n",
       "      <td>56</td>\n",
       "    </tr>\n",
       "    <tr>\n",
       "      <th>131</th>\n",
       "      <td>21 avril 2022 11:11</td>\n",
       "      <td>0 02RR 00I00</td>\n",
       "      <td>2</td>\n",
       "      <td>TRAITEUR TRAD. COUPE</td>\n",
       "      <td>20.0</td>\n",
       "      <td>TRAITEUR TRAD. COUPE</td>\n",
       "      <td>3.0</td>\n",
       "      <td>AUTRE TRAITEUR TRADITIONNE</td>\n",
       "      <td>11998.0</td>\n",
       "      <td>NEM AU CREVETTE 75G</td>\n",
       "      <td>12843660.0</td>\n",
       "      <td>209050000000</td>\n",
       "      <td>466801010.0</td>\n",
       "      <td>RAYON TRAITEUR 2020</td>\n",
       "      <td>8.890000e+09</td>\n",
       "      <td>E. Leclerc</td>\n",
       "      <td>NEM AU CREVETTE 75G</td>\n",
       "      <td>1</td>\n",
       "      <td>3.00</td>\n",
       "      <td>0.0</td>\n",
       "      <td>3.00</td>\n",
       "      <td>11</td>\n",
       "      <td>11</td>\n",
       "    </tr>\n",
       "    <tr>\n",
       "      <th>...</th>\n",
       "      <td>...</td>\n",
       "      <td>...</td>\n",
       "      <td>...</td>\n",
       "      <td>...</td>\n",
       "      <td>...</td>\n",
       "      <td>...</td>\n",
       "      <td>...</td>\n",
       "      <td>...</td>\n",
       "      <td>...</td>\n",
       "      <td>...</td>\n",
       "      <td>...</td>\n",
       "      <td>...</td>\n",
       "      <td>...</td>\n",
       "      <td>...</td>\n",
       "      <td>...</td>\n",
       "      <td>...</td>\n",
       "      <td>...</td>\n",
       "      <td>...</td>\n",
       "      <td>...</td>\n",
       "      <td>...</td>\n",
       "      <td>...</td>\n",
       "      <td>...</td>\n",
       "      <td>...</td>\n",
       "    </tr>\n",
       "    <tr>\n",
       "      <th>95103</th>\n",
       "      <td>21 avril 2022 12:01</td>\n",
       "      <td>2 HEAI 00600</td>\n",
       "      <td>609</td>\n",
       "      <td>TRAITEUR TRAD. COUPE</td>\n",
       "      <td>20.0</td>\n",
       "      <td>TRAITEUR TRAD. COUPE</td>\n",
       "      <td>3.0</td>\n",
       "      <td>AUTRE TRAITEUR TRADITIONNE</td>\n",
       "      <td>11998.0</td>\n",
       "      <td>MAXI CROQUE</td>\n",
       "      <td>1021534.0</td>\n",
       "      <td>210326000000</td>\n",
       "      <td>466801010.0</td>\n",
       "      <td>RAYON TRAITEUR 2020</td>\n",
       "      <td>8.890000e+09</td>\n",
       "      <td>E. Leclerc</td>\n",
       "      <td>E. Leclerc</td>\n",
       "      <td>1</td>\n",
       "      <td>3.20</td>\n",
       "      <td>0.0</td>\n",
       "      <td>3.20</td>\n",
       "      <td>12</td>\n",
       "      <td>01</td>\n",
       "    </tr>\n",
       "    <tr>\n",
       "      <th>95104</th>\n",
       "      <td>21 avril 2022 12:01</td>\n",
       "      <td>2 HEAI 00600</td>\n",
       "      <td>609</td>\n",
       "      <td>TRAITEUR TRAD. COUPE</td>\n",
       "      <td>20.0</td>\n",
       "      <td>TRAITEUR TRAD. COUPE</td>\n",
       "      <td>3.0</td>\n",
       "      <td>AUTRE TRAITEUR TRADITIONNE</td>\n",
       "      <td>11998.0</td>\n",
       "      <td>FEUILLANTINE SAUMON</td>\n",
       "      <td>1023274.0</td>\n",
       "      <td>210336000000</td>\n",
       "      <td>466801010.0</td>\n",
       "      <td>RAYON TRAITEUR 2020</td>\n",
       "      <td>8.890000e+09</td>\n",
       "      <td>E. Leclerc</td>\n",
       "      <td>FEUILLANTINE SAUMON</td>\n",
       "      <td>1</td>\n",
       "      <td>10.85</td>\n",
       "      <td>0.0</td>\n",
       "      <td>10.85</td>\n",
       "      <td>12</td>\n",
       "      <td>01</td>\n",
       "    </tr>\n",
       "    <tr>\n",
       "      <th>95601</th>\n",
       "      <td>21 avril 2022 13:53</td>\n",
       "      <td>2 HF9N 00800</td>\n",
       "      <td>610</td>\n",
       "      <td>TRAITEUR TRAD. COUPE</td>\n",
       "      <td>20.0</td>\n",
       "      <td>TRAITEUR TRAD. COUPE</td>\n",
       "      <td>3.0</td>\n",
       "      <td>AUTRE TRAITEUR TRADITIONNE</td>\n",
       "      <td>11998.0</td>\n",
       "      <td>JAMBON B. PORC FERMIER</td>\n",
       "      <td>1021807.0</td>\n",
       "      <td>210005000000</td>\n",
       "      <td>466801010.0</td>\n",
       "      <td>RAYON TRAITEUR 2020</td>\n",
       "      <td>8.890000e+09</td>\n",
       "      <td>E. Leclerc</td>\n",
       "      <td>E. Leclerc</td>\n",
       "      <td>1</td>\n",
       "      <td>19.41</td>\n",
       "      <td>0.0</td>\n",
       "      <td>19.41</td>\n",
       "      <td>13</td>\n",
       "      <td>53</td>\n",
       "    </tr>\n",
       "    <tr>\n",
       "      <th>95602</th>\n",
       "      <td>21 avril 2022 13:53</td>\n",
       "      <td>2 HF9N 00800</td>\n",
       "      <td>610</td>\n",
       "      <td>TRAITEUR TRAD. COUPE</td>\n",
       "      <td>20.0</td>\n",
       "      <td>TRAITEUR TRAD. COUPE</td>\n",
       "      <td>3.0</td>\n",
       "      <td>AUTRE TRAITEUR TRADITIONNE</td>\n",
       "      <td>11998.0</td>\n",
       "      <td>TERRINE POIVRE VERT ANCIENNE</td>\n",
       "      <td>1022177.0</td>\n",
       "      <td>210057000000</td>\n",
       "      <td>466801010.0</td>\n",
       "      <td>RAYON TRAITEUR 2020</td>\n",
       "      <td>8.890000e+09</td>\n",
       "      <td>E. Leclerc</td>\n",
       "      <td>E. Leclerc</td>\n",
       "      <td>1</td>\n",
       "      <td>2.99</td>\n",
       "      <td>0.0</td>\n",
       "      <td>2.99</td>\n",
       "      <td>13</td>\n",
       "      <td>53</td>\n",
       "    </tr>\n",
       "    <tr>\n",
       "      <th>95603</th>\n",
       "      <td>21 avril 2022 13:53</td>\n",
       "      <td>2 HF9N 00800</td>\n",
       "      <td>610</td>\n",
       "      <td>TRAITEUR TRAD. COUPE</td>\n",
       "      <td>20.0</td>\n",
       "      <td>TRAITEUR TRAD. COUPE</td>\n",
       "      <td>3.0</td>\n",
       "      <td>AUTRE TRAITEUR TRADITIONNE</td>\n",
       "      <td>11998.0</td>\n",
       "      <td>PAVE NATURE</td>\n",
       "      <td>1022656.0</td>\n",
       "      <td>210130000000</td>\n",
       "      <td>466801010.0</td>\n",
       "      <td>RAYON TRAITEUR 2020</td>\n",
       "      <td>8.890000e+09</td>\n",
       "      <td>E. Leclerc</td>\n",
       "      <td>E. Leclerc</td>\n",
       "      <td>1</td>\n",
       "      <td>2.19</td>\n",
       "      <td>0.0</td>\n",
       "      <td>2.19</td>\n",
       "      <td>13</td>\n",
       "      <td>53</td>\n",
       "    </tr>\n",
       "  </tbody>\n",
       "</table>\n",
       "<p>830 rows × 23 columns</p>\n",
       "</div>"
      ],
      "text/plain": [
       "                      date         ticket  caisse                 rayon  \\\n",
       "36     21 avril 2022 09:56   0 02RR 00500       2  TRAITEUR TRAD. COUPE   \n",
       "38     21 avril 2022 09:56   0 02RR 00500       2  TRAITEUR TRAD. COUPE   \n",
       "39     21 avril 2022 09:56   0 02RR 00500       2  TRAITEUR TRAD. COUPE   \n",
       "53     21 avril 2022 09:56   0 02RR 00500       2  TRAITEUR TRAD. COUPE   \n",
       "131    21 avril 2022 11:11   0 02RR 00I00       2  TRAITEUR TRAD. COUPE   \n",
       "...                    ...            ...     ...                   ...   \n",
       "95103  21 avril 2022 12:01   2 HEAI 00600     609  TRAITEUR TRAD. COUPE   \n",
       "95104  21 avril 2022 12:01   2 HEAI 00600     609  TRAITEUR TRAD. COUPE   \n",
       "95601  21 avril 2022 13:53   2 HF9N 00800     610  TRAITEUR TRAD. COUPE   \n",
       "95602  21 avril 2022 13:53   2 HF9N 00800     610  TRAITEUR TRAD. COUPE   \n",
       "95603  21 avril 2022 13:53   2 HF9N 00800     610  TRAITEUR TRAD. COUPE   \n",
       "\n",
       "       rayon_id              category  category_id  \\\n",
       "36         20.0  TRAITEUR TRAD. COUPE          3.0   \n",
       "38         20.0  TRAITEUR TRAD. COUPE          3.0   \n",
       "39         20.0  TRAITEUR TRAD. COUPE          3.0   \n",
       "53         20.0  TRAITEUR TRAD. COUPE          3.0   \n",
       "131        20.0  TRAITEUR TRAD. COUPE          3.0   \n",
       "...         ...                   ...          ...   \n",
       "95103      20.0  TRAITEUR TRAD. COUPE          3.0   \n",
       "95104      20.0  TRAITEUR TRAD. COUPE          3.0   \n",
       "95601      20.0  TRAITEUR TRAD. COUPE          3.0   \n",
       "95602      20.0  TRAITEUR TRAD. COUPE          3.0   \n",
       "95603      20.0  TRAITEUR TRAD. COUPE          3.0   \n",
       "\n",
       "                     sub_category  sub_category_id  \\\n",
       "36     AUTRE TRAITEUR TRADITIONNE          11998.0   \n",
       "38     AUTRE TRAITEUR TRADITIONNE          11998.0   \n",
       "39     AUTRE TRAITEUR TRADITIONNE          11998.0   \n",
       "53     AUTRE TRAITEUR TRADITIONNE          11998.0   \n",
       "131    AUTRE TRAITEUR TRADITIONNE          11998.0   \n",
       "...                           ...              ...   \n",
       "95103  AUTRE TRAITEUR TRADITIONNE          11998.0   \n",
       "95104  AUTRE TRAITEUR TRADITIONNE          11998.0   \n",
       "95601  AUTRE TRAITEUR TRADITIONNE          11998.0   \n",
       "95602  AUTRE TRAITEUR TRADITIONNE          11998.0   \n",
       "95603  AUTRE TRAITEUR TRADITIONNE          11998.0   \n",
       "\n",
       "                            produit  code_article           EAN      CODELEC  \\\n",
       "36            LANGUE BOEUF PIQUANTE    12230330.0  210503000000  466801010.0   \n",
       "38               AIGUILLETTE POULET     1024041.0  210558000000  466801010.0   \n",
       "39                   COEUR DE MERLU     1171040.0  210485000000  466801010.0   \n",
       "53        JAMBON BLANC  LABEL ROUGE     1021799.0  210004000000  466801010.0   \n",
       "131             NEM AU CREVETTE 75G    12843660.0  209050000000  466801010.0   \n",
       "...                             ...           ...           ...          ...   \n",
       "95103                   MAXI CROQUE     1021534.0  210326000000  466801010.0   \n",
       "95104           FEUILLANTINE SAUMON     1023274.0  210336000000  466801010.0   \n",
       "95601        JAMBON B. PORC FERMIER     1021807.0  210005000000  466801010.0   \n",
       "95602  TERRINE POIVRE VERT ANCIENNE     1022177.0  210057000000  466801010.0   \n",
       "95603                   PAVE NATURE     1022656.0  210130000000  466801010.0   \n",
       "\n",
       "                  supplier   supplier_id raison_sociale  \\\n",
       "36     RAYON TRAITEUR 2020  8.890000e+09     E. Leclerc   \n",
       "38     RAYON TRAITEUR 2020  8.890000e+09     E. Leclerc   \n",
       "39     RAYON TRAITEUR 2020  8.890000e+09     E. Leclerc   \n",
       "53     RAYON TRAITEUR 2020  8.890000e+09     E. Leclerc   \n",
       "131    RAYON TRAITEUR 2020  8.890000e+09     E. Leclerc   \n",
       "...                    ...           ...            ...   \n",
       "95103  RAYON TRAITEUR 2020  8.890000e+09     E. Leclerc   \n",
       "95104  RAYON TRAITEUR 2020  8.890000e+09     E. Leclerc   \n",
       "95601  RAYON TRAITEUR 2020  8.890000e+09     E. Leclerc   \n",
       "95602  RAYON TRAITEUR 2020  8.890000e+09     E. Leclerc   \n",
       "95603  RAYON TRAITEUR 2020  8.890000e+09     E. Leclerc   \n",
       "\n",
       "                      marque  quantity  value  discount  total hour minutes  \n",
       "36     LANGUE BOEUF PIQUANTE         1   3.86       0.0   3.86   09      56  \n",
       "38                E. Leclerc         1   3.57       0.0   3.57   09      56  \n",
       "39                E. Leclerc         1   5.90       0.0   5.90   09      56  \n",
       "53                E. Leclerc         1   3.41       0.0   3.41   09      56  \n",
       "131      NEM AU CREVETTE 75G         1   3.00       0.0   3.00   11      11  \n",
       "...                      ...       ...    ...       ...    ...  ...     ...  \n",
       "95103             E. Leclerc         1   3.20       0.0   3.20   12      01  \n",
       "95104    FEUILLANTINE SAUMON         1  10.85       0.0  10.85   12      01  \n",
       "95601             E. Leclerc         1  19.41       0.0  19.41   13      53  \n",
       "95602             E. Leclerc         1   2.99       0.0   2.99   13      53  \n",
       "95603             E. Leclerc         1   2.19       0.0   2.19   13      53  \n",
       "\n",
       "[830 rows x 23 columns]"
      ]
     },
     "execution_count": 101,
     "metadata": {},
     "output_type": "execute_result"
    }
   ],
   "source": [
    "df_trad"
   ]
  },
  {
   "cell_type": "markdown",
   "metadata": {},
   "source": [
    "### Ventes par heures"
   ]
  },
  {
   "cell_type": "code",
   "execution_count": 103,
   "metadata": {},
   "outputs": [
    {
     "data": {
      "text/plain": [
       "hour\n",
       "11    114\n",
       "10    108\n",
       "16     87\n",
       "12     83\n",
       "17     65\n",
       "13     63\n",
       "15     55\n",
       "09     53\n",
       "19     53\n",
       "20     53\n",
       "18     51\n",
       "14     42\n",
       "08     14\n",
       "Name: quantity, dtype: int64"
      ]
     },
     "execution_count": 103,
     "metadata": {},
     "output_type": "execute_result"
    }
   ],
   "source": [
    "# Heures où il y a plus de ventes\n",
    "\n",
    "df_trad.groupby('hour')['quantity'].sum().sort_values(ascending=False)"
   ]
  },
  {
   "cell_type": "code",
   "execution_count": 104,
   "metadata": {},
   "outputs": [
    {
     "data": {
      "text/plain": [
       "hour\n",
       "11    439.84\n",
       "10    369.35\n",
       "16    351.03\n",
       "12    318.83\n",
       "17    254.88\n",
       "18    233.77\n",
       "13    226.82\n",
       "15    212.16\n",
       "19    208.06\n",
       "09    200.91\n",
       "20    181.65\n",
       "14    163.00\n",
       "08     39.65\n",
       "Name: total, dtype: float64"
      ]
     },
     "execution_count": 104,
     "metadata": {},
     "output_type": "execute_result"
    }
   ],
   "source": [
    "# Heures où il y a le plus de CA généré\n",
    "\n",
    "df_trad.groupby('hour')['total'].sum().sort_values(ascending=False)"
   ]
  },
  {
   "cell_type": "code",
   "execution_count": 107,
   "metadata": {},
   "outputs": [
    {
     "data": {
      "image/png": "[encoded data removed]",
      "text/plain": [
       "<Figure size 432x288 with 1 Axes>"
      ]
     },
     "metadata": {
      "needs_background": "light"
     },
     "output_type": "display_data"
    }
   ],
   "source": [
    "#Visualisation\n",
    "\n",
    "sns.countplot(x = df_trad['hour'].sort_values(), data = df_trad)\n",
    "plt.title('Ventes par heures')\n",
    "plt.xlabel('Heure')\n",
    "plt.ylabel('Nombre de ventes')\n",
    "plt.show()"
   ]
  }
 ],
 "metadata": {
  "kernelspec": {
   "display_name": "Python 3.9.7 ('devia')",
   "language": "python",
   "name": "python3"
  },
  "language_info": {
   "codemirror_mode": {
    "name": "ipython",
    "version": 3
   },
   "file_extension": ".py",
   "mimetype": "text/x-python",
   "name": "python",
   "nbconvert_exporter": "python",
   "pygments_lexer": "ipython3",
   "version": "3.9.7"
  },
  "orig_nbformat": 4,
  "vscode": {
   "interpreter": {
    "hash": "b175033f4bbaf9f0fba1edfe1665e4ba0c526b66dcf284e028a4c2430fd27885"
   }
  }
 },
 "nbformat": 4,
 "nbformat_minor": 2
}
